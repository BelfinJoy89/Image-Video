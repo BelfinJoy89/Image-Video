{
  "nbformat": 4,
  "nbformat_minor": 0,
  "metadata": {
    "colab": {
      "name": "IV Hog Features.ipynb",
      "version": "0.3.2",
      "provenance": [],
      "collapsed_sections": [],
      "include_colab_link": true
    },
    "kernelspec": {
      "name": "python3",
      "display_name": "Python 3"
    }
  },
  "cells": [
    {
      "cell_type": "markdown",
      "metadata": {
        "id": "view-in-github",
        "colab_type": "text"
      },
      "source": [
        "<a href=\"https://colab.research.google.com/github/BelfinJoy89/Image-Video/blob/master/IV_Hog_Features.ipynb\" target=\"_parent\"><img src=\"https://colab.research.google.com/assets/colab-badge.svg\" alt=\"Open In Colab\"/></a>"
      ]
    },
    {
      "cell_type": "code",
      "metadata": {
        "id": "o-tV0jvLi8Nt",
        "colab_type": "code",
        "colab": {}
      },
      "source": [
        "#Import necessary packages\n",
        "import numpy as np\n",
        "import cv2\n",
        "from matplotlib import pyplot as plt\n",
        "from skimage import color\n",
        "from skimage.feature import hog\n",
        "import pandas as pd\n",
        "from sklearn import svm\n",
        "from sklearn.metrics import classification_report,accuracy_score"
      ],
      "execution_count": 0,
      "outputs": []
    },
    {
      "cell_type": "code",
      "metadata": {
        "id": "1891aQLCjxOp",
        "colab_type": "code",
        "outputId": "488c33f7-393b-42c4-e2fd-f0719f16edfb",
        "colab": {
          "base_uri": "https://localhost:8080/",
          "height": 204
        }
      },
      "source": [
        "data = pd.read_csv('/content/input.csv')\n",
        "data.head()"
      ],
      "execution_count": 0,
      "outputs": [
        {
          "output_type": "execute_result",
          "data": {
            "text/html": [
              "<div>\n",
              "<style scoped>\n",
              "    .dataframe tbody tr th:only-of-type {\n",
              "        vertical-align: middle;\n",
              "    }\n",
              "\n",
              "    .dataframe tbody tr th {\n",
              "        vertical-align: top;\n",
              "    }\n",
              "\n",
              "    .dataframe thead th {\n",
              "        text-align: right;\n",
              "    }\n",
              "</style>\n",
              "<table border=\"1\" class=\"dataframe\">\n",
              "  <thead>\n",
              "    <tr style=\"text-align: right;\">\n",
              "      <th></th>\n",
              "      <th>emotion (label)</th>\n",
              "      <th>pixels</th>\n",
              "      <th>Usage</th>\n",
              "    </tr>\n",
              "  </thead>\n",
              "  <tbody>\n",
              "    <tr>\n",
              "      <th>0</th>\n",
              "      <td>0</td>\n",
              "      <td>70 80 82 72 58 58 60 63 54 58 60 48 89 115 121...</td>\n",
              "      <td>Training</td>\n",
              "    </tr>\n",
              "    <tr>\n",
              "      <th>1</th>\n",
              "      <td>0</td>\n",
              "      <td>151 150 147 155 148 133 111 140 170 174 182 15...</td>\n",
              "      <td>Training</td>\n",
              "    </tr>\n",
              "    <tr>\n",
              "      <th>2</th>\n",
              "      <td>0</td>\n",
              "      <td>231 212 156 164 174 138 161 173 182 200 106 38...</td>\n",
              "      <td>Training</td>\n",
              "    </tr>\n",
              "    <tr>\n",
              "      <th>3</th>\n",
              "      <td>0</td>\n",
              "      <td>24 32 36 30 32 23 19 20 30 41 21 22 32 34 21 1...</td>\n",
              "      <td>Training</td>\n",
              "    </tr>\n",
              "    <tr>\n",
              "      <th>4</th>\n",
              "      <td>0</td>\n",
              "      <td>4 0 0 0 0 0 0 0 0 0 0 0 3 15 23 28 48 50 58 84...</td>\n",
              "      <td>Training</td>\n",
              "    </tr>\n",
              "  </tbody>\n",
              "</table>\n",
              "</div>"
            ],
            "text/plain": [
              "   emotion (label)                                             pixels     Usage\n",
              "0                0  70 80 82 72 58 58 60 63 54 58 60 48 89 115 121...  Training\n",
              "1                0  151 150 147 155 148 133 111 140 170 174 182 15...  Training\n",
              "2                0  231 212 156 164 174 138 161 173 182 200 106 38...  Training\n",
              "3                0  24 32 36 30 32 23 19 20 30 41 21 22 32 34 21 1...  Training\n",
              "4                0  4 0 0 0 0 0 0 0 0 0 0 0 3 15 23 28 48 50 58 84...  Training"
            ]
          },
          "metadata": {
            "tags": []
          },
          "execution_count": 28
        }
      ]
    },
    {
      "cell_type": "code",
      "metadata": {
        "id": "C6QOHyjHwb8A",
        "colab_type": "code",
        "outputId": "7cf93120-c5cc-44cc-e14c-5f8e89ea9285",
        "colab": {
          "base_uri": "https://localhost:8080/",
          "height": 88
        }
      },
      "source": [
        "data['Usage'].value_counts()"
      ],
      "execution_count": 0,
      "outputs": [
        {
          "output_type": "execute_result",
          "data": {
            "text/plain": [
              "Training       28709\n",
              "PrivateTest     3589\n",
              "PublicTest      3589\n",
              "Name: Usage, dtype: int64"
            ]
          },
          "metadata": {
            "tags": []
          },
          "execution_count": 3
        }
      ]
    },
    {
      "cell_type": "code",
      "metadata": {
        "id": "hOQyxi607gz6",
        "colab_type": "code",
        "outputId": "b9e984e0-9efc-4734-8646-15b2447f38e5",
        "colab": {
          "base_uri": "https://localhost:8080/",
          "height": 70
        }
      },
      "source": [
        "data['emotion (label)'].value_counts()"
      ],
      "execution_count": 0,
      "outputs": [
        {
          "output_type": "execute_result",
          "data": {
            "text/plain": [
              "0    26898\n",
              "1     8989\n",
              "Name: emotion (label), dtype: int64"
            ]
          },
          "metadata": {
            "tags": []
          },
          "execution_count": 4
        }
      ]
    },
    {
      "cell_type": "code",
      "metadata": {
        "id": "NgDpmTxLOBKk",
        "colab_type": "code",
        "outputId": "161265c4-7020-4ecc-9111-cd74674a1d5d",
        "colab": {
          "base_uri": "https://localhost:8080/",
          "height": 35
        }
      },
      "source": [
        "data['emotion (label)'].unique()\n",
        "print(data.shape)"
      ],
      "execution_count": 0,
      "outputs": [
        {
          "output_type": "stream",
          "text": [
            "(35887, 3)\n"
          ],
          "name": "stdout"
        }
      ]
    },
    {
      "cell_type": "code",
      "metadata": {
        "id": "pFkrIgvgdpzg",
        "colab_type": "code",
        "outputId": "d32ae7c7-361c-4e80-ce12-cab5aef8a5c9",
        "colab": {
          "base_uri": "https://localhost:8080/",
          "height": 52
        }
      },
      "source": [
        "train = data[data['Usage'] == 'Training']\n",
        "test = data[data['Usage'] != 'Training']\n",
        "print(train.shape)\n",
        "print(test.shape)"
      ],
      "execution_count": 0,
      "outputs": [
        {
          "output_type": "stream",
          "text": [
            "(28709, 3)\n",
            "(7178, 3)\n"
          ],
          "name": "stdout"
        }
      ]
    },
    {
      "cell_type": "code",
      "metadata": {
        "id": "bQZ_1etoOGBx",
        "colab_type": "code",
        "colab": {}
      },
      "source": [
        "train_samples = list(train['pixels'].values)\n",
        "test_samples = list(test['pixels'].values)"
      ],
      "execution_count": 0,
      "outputs": []
    },
    {
      "cell_type": "code",
      "metadata": {
        "id": "EtL2E8NZSINR",
        "colab_type": "code",
        "colab": {}
      },
      "source": [
        "def hog_ft_extract(samples):\n",
        "  ppc = 8\n",
        "  images = []\n",
        "  hog_features = []\n",
        "  hog_images = []\n",
        "  for i in range(len(samples)):\n",
        "    image = np.fromstring(samples[i],dtype = int,sep = \" \").reshape(48,48)\n",
        "    images.append(image)\n",
        "    ft,hog_image = hog(image,orientations = 9, pixels_per_cell = (ppc,ppc),cells_per_block = (1,1),block_norm = 'L2',\n",
        "                  visualise = True)\n",
        "    hog_images.append(hog_image)\n",
        "    hog_features.append(ft)\n",
        "  return(hog_images,hog_features,images)"
      ],
      "execution_count": 0,
      "outputs": []
    },
    {
      "cell_type": "code",
      "metadata": {
        "id": "6OvWxoCqYS42",
        "colab_type": "code",
        "outputId": "033e681e-0775-41ee-ec99-fd7e284397fa",
        "colab": {
          "base_uri": "https://localhost:8080/",
          "height": 72
        }
      },
      "source": [
        "train_hog_images,train_hog_ft,train_images = hog_ft_extract(train_samples)\n",
        "test_hog_images,test_hog_ft,test_images = hog_ft_extract(test_samples)"
      ],
      "execution_count": 0,
      "outputs": [
        {
          "output_type": "stream",
          "text": [
            "/usr/local/lib/python3.6/dist-packages/skimage/feature/_hog.py:239: skimage_deprecation: Argument `visualise` is deprecated and will be changed to `visualize` in v0.16\n",
            "  'be changed to `visualize` in v0.16', skimage_deprecation)\n"
          ],
          "name": "stderr"
        }
      ]
    },
    {
      "cell_type": "code",
      "metadata": {
        "id": "hWN33eS0YSD4",
        "colab_type": "code",
        "outputId": "e38ff539-21bc-4d25-b498-c6629931bff0",
        "colab": {
          "base_uri": "https://localhost:8080/",
          "height": 287
        }
      },
      "source": [
        "plt.imshow(train_hog_images[100])"
      ],
      "execution_count": 0,
      "outputs": [
        {
          "output_type": "execute_result",
          "data": {
            "text/plain": [
              "<matplotlib.image.AxesImage at 0x7f1cb6f897f0>"
            ]
          },
          "metadata": {
            "tags": []
          },
          "execution_count": 10
        },
        {
          "output_type": "display_data",
          "data": {
            "image/png": "[encoded data removed]",
            "text/plain": [
              "<Figure size 432x288 with 1 Axes>"
            ]
          },
          "metadata": {
            "tags": []
          }
        }
      ]
    },
    {
      "cell_type": "code",
      "metadata": {
        "id": "KRWz9fv5aZMl",
        "colab_type": "code",
        "outputId": "17a4fddc-ea45-4328-b14f-a64d73b50d23",
        "colab": {
          "base_uri": "https://localhost:8080/",
          "height": 287
        }
      },
      "source": [
        "plt.imshow(train_images[100])"
      ],
      "execution_count": 0,
      "outputs": [
        {
          "output_type": "execute_result",
          "data": {
            "text/plain": [
              "<matplotlib.image.AxesImage at 0x7f1cb470cf28>"
            ]
          },
          "metadata": {
            "tags": []
          },
          "execution_count": 11
        },
        {
          "output_type": "display_data",
          "data": {
            "image/png": "[encoded data removed]",
            "text/plain": [
              "<Figure size 432x288 with 1 Axes>"
            ]
          },
          "metadata": {
            "tags": []
          }
        }
      ]
    },
    {
      "cell_type": "code",
      "metadata": {
        "id": "26a6YyVbxpUG",
        "colab_type": "code",
        "outputId": "dd7af11e-562d-4c0f-f6ab-19172b52255b",
        "colab": {
          "base_uri": "https://localhost:8080/",
          "height": 287
        }
      },
      "source": [
        "plt.imshow(test_hog_images[5])"
      ],
      "execution_count": 0,
      "outputs": [
        {
          "output_type": "execute_result",
          "data": {
            "text/plain": [
              "<matplotlib.image.AxesImage at 0x7f1cb46696a0>"
            ]
          },
          "metadata": {
            "tags": []
          },
          "execution_count": 12
        },
        {
          "output_type": "display_data",
          "data": {
            "image/png": "[encoded data removed]",
            "text/plain": [
              "<Figure size 432x288 with 1 Axes>"
            ]
          },
          "metadata": {
            "tags": []
          }
        }
      ]
    },
    {
      "cell_type": "code",
      "metadata": {
        "id": "8eOiaQibxpf4",
        "colab_type": "code",
        "outputId": "00d392ab-2633-43dd-d558-f899cbf7e57b",
        "colab": {
          "base_uri": "https://localhost:8080/",
          "height": 287
        }
      },
      "source": [
        "plt.imshow(test_images[5])"
      ],
      "execution_count": 0,
      "outputs": [
        {
          "output_type": "execute_result",
          "data": {
            "text/plain": [
              "<matplotlib.image.AxesImage at 0x7f1cb4641ba8>"
            ]
          },
          "metadata": {
            "tags": []
          },
          "execution_count": 13
        },
        {
          "output_type": "display_data",
          "data": {
            "image/png": "[encoded data removed]",
            "text/plain": [
              "<Figure size 432x288 with 1 Axes>"
            ]
          },
          "metadata": {
            "tags": []
          }
        }
      ]
    },
    {
      "cell_type": "code",
      "metadata": {
        "id": "cRTm__lyMyV6",
        "colab_type": "code",
        "outputId": "9e9245d0-0ebe-4e23-ec8a-c670f70186e9",
        "colab": {
          "base_uri": "https://localhost:8080/",
          "height": 52
        }
      },
      "source": [
        "train_labels =  np.array(train['emotion (label)']).reshape(len(train['emotion (label)']),1)\n",
        "print(train_labels.shape)\n",
        "test_labels = np.array(test['emotion (label)']).reshape(len(test['emotion (label)']),1)\n",
        "print(test_labels.shape)"
      ],
      "execution_count": 0,
      "outputs": [
        {
          "output_type": "stream",
          "text": [
            "(28709, 1)\n",
            "(7178, 1)\n"
          ],
          "name": "stdout"
        }
      ]
    },
    {
      "cell_type": "code",
      "metadata": {
        "id": "HXSEKuneMzXN",
        "colab_type": "code",
        "colab": {}
      },
      "source": [
        "clf = svm.LinearSVC(max_iter = 10000)\n",
        "train_hog_features = np.array(train_hog_ft)\n",
        "test_hog_features = np.array(test_hog_ft)\n",
        "train_df = np.hstack((train_hog_features,train_labels))\n",
        "test_df = np.hstack((test_hog_features,test_labels))\n",
        "#np.random.shuffle(data_frame)"
      ],
      "execution_count": 0,
      "outputs": []
    },
    {
      "cell_type": "markdown",
      "metadata": {
        "id": "86ar0OU4cvA_",
        "colab_type": "text"
      },
      "source": [
        ""
      ]
    },
    {
      "cell_type": "code",
      "metadata": {
        "id": "W2-sr5v7M9ga",
        "colab_type": "code",
        "outputId": "631016da-b799-4c75-be73-0d03e0eed0ee",
        "colab": {
          "base_uri": "https://localhost:8080/",
          "height": 144
        }
      },
      "source": [
        "#x_train, x_test = data_frame[:partition,:-1],  data_frame[partition:,:-1]\n",
        "#y_train, y_test = data_frame[:partition,-1:].ravel() , data_frame[partition:,-1:].ravel()\n",
        "\n",
        "clf.fit(train_hog_features,train_labels)"
      ],
      "execution_count": 0,
      "outputs": [
        {
          "output_type": "stream",
          "text": [
            "/usr/local/lib/python3.6/dist-packages/sklearn/utils/validation.py:724: DataConversionWarning: A column-vector y was passed when a 1d array was expected. Please change the shape of y to (n_samples, ), for example using ravel().\n",
            "  y = column_or_1d(y, warn=True)\n"
          ],
          "name": "stderr"
        },
        {
          "output_type": "execute_result",
          "data": {
            "text/plain": [
              "LinearSVC(C=1.0, class_weight=None, dual=True, fit_intercept=True,\n",
              "          intercept_scaling=1, loss='squared_hinge', max_iter=10000,\n",
              "          multi_class='ovr', penalty='l2', random_state=None, tol=0.0001,\n",
              "          verbose=0)"
            ]
          },
          "metadata": {
            "tags": []
          },
          "execution_count": 18
        }
      ]
    },
    {
      "cell_type": "code",
      "metadata": {
        "id": "qn6HPYBmbTgY",
        "colab_type": "code",
        "colab": {}
      },
      "source": [
        "y_pred = clf.predict(test_hog_features)"
      ],
      "execution_count": 0,
      "outputs": []
    },
    {
      "cell_type": "code",
      "metadata": {
        "id": "2E9VRwgLM_Rr",
        "colab_type": "code",
        "outputId": "6497ed1d-5c75-4b0d-ec89-be4829204db5",
        "colab": {
          "base_uri": "https://localhost:8080/",
          "height": 230
        }
      },
      "source": [
        "print(\"Accuracy: \",(accuracy_score(test_labels, y_pred)))\n",
        "print('\\n')\n",
        "print(classification_report(test_labels, y_pred))"
      ],
      "execution_count": 0,
      "outputs": [
        {
          "output_type": "stream",
          "text": [
            "Accuracy:  0.8246029534689329\n",
            "\n",
            "\n",
            "              precision    recall  f1-score   support\n",
            "\n",
            "           0       0.85      0.94      0.89      5404\n",
            "           1       0.72      0.48      0.58      1774\n",
            "\n",
            "    accuracy                           0.82      7178\n",
            "   macro avg       0.78      0.71      0.73      7178\n",
            "weighted avg       0.81      0.82      0.81      7178\n",
            "\n"
          ],
          "name": "stdout"
        }
      ]
    },
    {
      "cell_type": "code",
      "metadata": {
        "id": "A666r5Z0Hxqm",
        "colab_type": "code",
        "colab": {}
      },
      "source": [
        "Evaluation = classification_report(test_labels, y_pred,output_dict = True)\n",
        "eval_df = pd.DataFrame(Evaluation).transpose()\n",
        "eval_df = eval_df.to_string()\n",
        "output_file = open('Evaluation Metrics.txt','a')\n",
        "output_file.write(eval_df)\n",
        "output_file.close()"
      ],
      "execution_count": 0,
      "outputs": []
    },
    {
      "cell_type": "code",
      "metadata": {
        "id": "dgj81tbgu7uY",
        "colab_type": "code",
        "colab": {}
      },
      "source": [
        "pred_list = []\n",
        "for i in range(0,len(test_hog_features)):\n",
        "  pred_data = y_pred[i],i\n",
        "  pred_list.append(pred_data)\n",
        "  "
      ],
      "execution_count": 0,
      "outputs": []
    },
    {
      "cell_type": "code",
      "metadata": {
        "id": "murDbQoXMXfj",
        "colab_type": "code",
        "colab": {}
      },
      "source": [
        "np.savetxt('Training Set.csv',train_hog_features)\n",
        "np.savetxt('Testing Set.csv',test_hog_features)"
      ],
      "execution_count": 0,
      "outputs": []
    },
    {
      "cell_type": "code",
      "metadata": {
        "id": "znkPERulwJGs",
        "colab_type": "code",
        "outputId": "3e72d6d4-d332-4c54-95e9-4840859b2520",
        "colab": {
          "base_uri": "https://localhost:8080/",
          "height": 35
        }
      },
      "source": [
        "pred_list[5]"
      ],
      "execution_count": 0,
      "outputs": [
        {
          "output_type": "execute_result",
          "data": {
            "text/plain": [
              "(1, 5)"
            ]
          },
          "metadata": {
            "tags": []
          },
          "execution_count": 24
        }
      ]
    },
    {
      "cell_type": "code",
      "metadata": {
        "id": "ZS32Zvtjt9uo",
        "colab_type": "code",
        "colab": {}
      },
      "source": [
        "import csv\n",
        "with open(\"Test Predictions.csv\",\"w\")  as f:\n",
        "    writer=csv.writer(f, delimiter=\",\", lineterminator=\"\\r\\n\") \n",
        "    writer.writerows(pred_list)\n",
        "f.close()"
      ],
      "execution_count": 0,
      "outputs": []
    },
    {
      "cell_type": "code",
      "metadata": {
        "id": "Z8p-BYrnxU_a",
        "colab_type": "code",
        "colab": {}
      },
      "source": [
        "from google.colab import files\n",
        "files.download('Training Set.csv')\n",
        "#files.download('Testing Set.csv')\n",
        "#files.download('Evaluation Metrics.txt')\n",
        "#files.download('Test Predictions.csv')"
      ],
      "execution_count": 0,
      "outputs": []
    },
    {
      "cell_type": "code",
      "metadata": {
        "id": "oCRFLNLgZQOe",
        "colab_type": "code",
        "colab": {}
      },
      "source": [
        ""
      ],
      "execution_count": 0,
      "outputs": []
    }
  ]
}